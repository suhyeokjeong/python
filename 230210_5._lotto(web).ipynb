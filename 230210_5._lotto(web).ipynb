{
 "cells": [
  {
   "cell_type": "markdown",
   "id": "72fd42ee",
   "metadata": {},
   "source": [
    "# 로또 번호 출력"
   ]
  },
  {
   "cell_type": "code",
   "execution_count": 61,
   "id": "3762fd0a",
   "metadata": {},
   "outputs": [
    {
     "name": "stdout",
     "output_type": "stream",
     "text": [
      "<strong>1053회</strong> 당첨결과</h4>\r\n",
      "\t\t\t\t\t<p class=\"desc\">(2023년 02월 04일 추첨)</p>\r\n",
      "\t\t\t\t\t<div class=\"nums\">\r\n",
      "\t\t\t\t\t\t<div class=\"num win\">\r\n",
      "\t\t\t\t\t\t\t<strong>당첨번호</strong>\r\n",
      "\t\t\t\t\t\t\t<p>\r\n",
      "\t\t\t\t\t\t\t\t<span class=\"ball_645 lrg ball3\">22</span>\r\n",
      "\t\t\t\t\t\t\t\t<span class=\"ball_645 lrg ball3\">26</span>\r\n",
      "\t\t\t\t\t\t\t\t<span class=\"ball_645 lrg ball3\">29</span>\r\n",
      "\t\t\t\t\t\t\t\t<span class=\"ball_645 lrg ball3\">30</span>\r\n",
      "\t\t\t\t\t\t\t\t<span class=\"ball_645 lrg ball4\">34</span>\r\n",
      "\t\t\t\t\t\t\t\t<span class=\"ball_645 lrg ball5\">45</span>\r\n",
      "\t\t\t\t\t\t\t</p>\r\n",
      "\t\t\t\t\t\t</div>\r\n",
      "\t\t\t\t\t\t<div class=\"\n"
     ]
    }
   ],
   "source": [
    "import requests\n",
    "\n",
    "res = requests.get('https://dhlottery.co.kr/gameResult.do?method=byWin')\n",
    "\n",
    "# list, dictionary라는 가정 하에\n",
    "result = res.text\n",
    "\n",
    "\n",
    "sidx = result.find('<strong>1053회</strong>')\n",
    "eidx = result.find('num bonus', sidx)\n",
    "\n",
    "result2 = result[sidx:eidx]\n",
    "\n",
    "print(result2)"
   ]
  },
  {
   "cell_type": "code",
   "execution_count": 63,
   "id": "efacc700",
   "metadata": {},
   "outputs": [
    {
     "name": "stdout",
     "output_type": "stream",
     "text": [
      "1053회차 로또 당첨 번호는 : 22 26 29 30 34 45 "
     ]
    }
   ],
   "source": [
    "# 구분 시작\n",
    "\n",
    "print(\"[%s차] 로또 당첨 번호는 \" % result2[8:13], end = ': ')\n",
    "\n",
    "num_2 = 0\n",
    "\n",
    "while True:\n",
    "    num_1 = result2.find('</span', num_2)\n",
    "    num_2 = result2.find('</span', num_1 + 1)\n",
    "    print( result2[num_1 - 2:num_1], end = ' ')\n",
    "\n",
    "    if num_2 == -1: break"
   ]
  },
  {
   "cell_type": "markdown",
   "id": "cfb52156",
   "metadata": {},
   "source": [
    "# find()함수 사용방법"
   ]
  },
  {
   "cell_type": "code",
   "execution_count": 59,
   "id": "2c6b09c8",
   "metadata": {},
   "outputs": [
    {
     "data": {
      "text/plain": [
       "'22'"
      ]
     },
     "execution_count": 59,
     "metadata": {},
     "output_type": "execute_result"
    }
   ],
   "source": [
    "sidx = result2.find('ball_645')\n",
    "# <span class=\"ball_645 lrg ball3\">22</span>\n",
    "#\t\t\t\t\t\t\t\t<span class=\"\n",
    "# 덮어써서 > 번호 찾기\n",
    "sidx = result2.find('>', sidx)\n",
    "# >22</span>\n",
    "#\t\t\t\t\t\t\t\t<span class=\"\n",
    "# 덮어써서 > 번호 찾기\n",
    "\n",
    "eidx = result2.find('<', sidx)\n",
    "# >22<\n",
    "\n",
    "result2[sidx+1 : eidx]"
   ]
  }
 ],
 "metadata": {
  "kernelspec": {
   "display_name": "Python 3 (ipykernel)",
   "language": "python",
   "name": "python3"
  },
  "language_info": {
   "codemirror_mode": {
    "name": "ipython",
    "version": 3
   },
   "file_extension": ".py",
   "mimetype": "text/x-python",
   "name": "python",
   "nbconvert_exporter": "python",
   "pygments_lexer": "ipython3",
   "version": "3.11.1"
  }
 },
 "nbformat": 4,
 "nbformat_minor": 5
}
