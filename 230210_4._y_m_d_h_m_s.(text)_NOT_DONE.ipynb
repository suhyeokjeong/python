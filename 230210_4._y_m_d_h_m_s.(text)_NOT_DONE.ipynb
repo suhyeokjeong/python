{
 "cells": [
  {
   "cell_type": "code",
   "execution_count": 93,
   "id": "856a384c",
   "metadata": {},
   "outputs": [],
   "source": [
    "import requests\n",
    "\n",
    "res = requests.get('https://newsapi.org/v2/top-headlines?country=kr&apiKey=9f5baf7d9f3f42879a20d7d19d9886e4')\n",
    "\n",
    "# list, dictionary라는 가정 하에\n",
    "result = res.json()\n",
    "\n",
    "articles = result.get('articles')\n"
   ]
  },
  {
   "cell_type": "code",
   "execution_count": 107,
   "id": "69027e77",
   "metadata": {},
   "outputs": [
    {
     "name": "stdout",
     "output_type": "stream",
     "text": [
      "['2023-02-10T04:26:00', '2023-02-10T04:06:19', '2023-02-10T03:30:41', '2023-02-10T03:05:27', '2023-02-10T02:40:19', '2023-02-10T02:34:00', '2023-02-10T02:25:53', '2023-02-10T02:01:00', '2023-02-10T01:52:19', '2023-02-10T01:42:59', '2023-02-10T01:36:00', '2023-02-10T01:32:01', '2023-02-10T01:10:17', '2023-02-10T01:05:00', '2023-02-10T01:00:31', '2023-02-10T01:00:00', '2023-02-10T00:35:40', '2023-02-10T00:09:35', '2023-02-10T00:08:35', '2023-02-09T23:40:00', '']\n"
     ]
    }
   ],
   "source": [
    "articles = result.get('articles')\n",
    "published_data = ''\n",
    "\n",
    "for article in articles:\n",
    "    published_data += article.get('publishedAt')\n",
    "\n",
    "data_split_Z = published_data.split('Z')\n",
    "# print(data_split_Z)\n",
    "\n",
    "\n",
    "data_split_T_list = []\n",
    "for data in data_split_Z:\n",
    "    data_split_T_list.append(data.split('T'))\n",
    "\n",
    "# print(data_split_T_list)\n",
    "\n",
    "\n",
    "# print(date_and_time)\n",
    "\n",
    "# date = date_and_time[0]\n",
    "# time = date_and_time[1]\n",
    "\n",
    "# y, m, d = date.split('-')\n",
    "# hour, minute, second = time.split(':')\n",
    "\n",
    "\n",
    "\n",
    "# print(\"%s년%s월%s일\" % (y[2:4], m, d), end = ' - ')\n",
    "# print(\"%s시%s분%s초\" % (hour, minute, time[:2]))\n"
   ]
  },
  {
   "cell_type": "code",
   "execution_count": null,
   "id": "76134030",
   "metadata": {},
   "outputs": [],
   "source": []
  }
 ],
 "metadata": {
  "kernelspec": {
   "display_name": "Python 3 (ipykernel)",
   "language": "python",
   "name": "python3"
  },
  "language_info": {
   "codemirror_mode": {
    "name": "ipython",
    "version": 3
   },
   "file_extension": ".py",
   "mimetype": "text/x-python",
   "name": "python",
   "nbconvert_exporter": "python",
   "pygments_lexer": "ipython3",
   "version": "3.11.1"
  }
 },
 "nbformat": 4,
 "nbformat_minor": 5
}
