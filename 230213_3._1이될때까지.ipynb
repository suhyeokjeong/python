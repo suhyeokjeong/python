{
 "cells": [
  {
   "cell_type": "markdown",
   "id": "be4ab0ae-f923-49bb-be04-f77401b7207f",
   "metadata": {},
   "source": [
    "## 1이 될 때까지\n",
    "- 어떠한 수 N이 될 때까지 다음의 두 과정 중 하나를 반복적으로 선택하여 수행하려고 합니다. 단, 두번째 연산은 N이 K로 나누어 떨어질 때만 선택할 수 있습니다.\n",
    "1. N에서 1을 뺍니다.\n",
    "2. N을 K로 나눕니다.\n",
    "- 예를 들어 N이 17, K가 4라고 가정합시다. 이 때 1번의 과정을 한 번 수행하면 N은 16이 됩니다. 이후에 2번의 과정을 두 번 수행하면 N은 1이 됩니다. 결과적으로 이 경우 전체 과정을 실행한 횟수는 3이 됩니다. 이는 N을 1로 만드는 최소 횟수입니다.\n",
    "- N과 K가 주어질 때 N이 1이 될 때까지 1번 혹은 2번의 과정을 수행해야 하는 최소 횟수를 구하는 프로그램을 작성하세요."
   ]
  },
  {
   "cell_type": "markdown",
   "id": "4727ea72-d033-41b9-a46b-88fc9b5193d0",
   "metadata": {},
   "source": [
    "![nn](images/그리디03.png)"
   ]
  },
  {
   "cell_type": "markdown",
   "id": "b57e88cb-d825-4a39-8729-d7a9da25079f",
   "metadata": {},
   "source": [
    "![nn](images/그리디04.png)"
   ]
  },
  {
   "cell_type": "markdown",
   "id": "462944ec",
   "metadata": {},
   "source": [
    "# n -= 1 대신 나머지를 활용"
   ]
  },
  {
   "cell_type": "code",
   "execution_count": 17,
   "id": "fc85472a-3cbe-4619-8011-e0de2f2c2dae",
   "metadata": {},
   "outputs": [
    {
     "name": "stdout",
     "output_type": "stream",
     "text": [
      "N = 25\n",
      "K = 3\n",
      "시도 횟수: 6\n"
     ]
    }
   ],
   "source": [
    "N = int(input(\"N = \"))\n",
    "K = int(input(\"K = \"))\n",
    "count = 0\n",
    "\n",
    "while True:\n",
    "    if N % K == 0:\n",
    "        N = N / K\n",
    "        count += 1\n",
    "\n",
    "    elif N // K == 0:\n",
    "        N -= 1\n",
    "        count += 1\n",
    "\n",
    "    else:\n",
    "        count += int(N % K)\n",
    "        N = N // K * K   # 1로 빼기를 매번하지 않기 위해\n",
    "\n",
    "    if N == 1: break\n",
    "\n",
    "print(f\"시도 횟수: {count}\")"
   ]
  },
  {
   "cell_type": "markdown",
   "id": "63ac1708",
   "metadata": {},
   "source": [
    "# 그냥 -1로 루프를 돌려 구하기"
   ]
  },
  {
   "cell_type": "code",
   "execution_count": 16,
   "id": "cffbba5f",
   "metadata": {},
   "outputs": [
    {
     "name": "stdout",
     "output_type": "stream",
     "text": [
      "N = 25\n",
      "K = 3\n",
      "시도 횟수: 6\n"
     ]
    }
   ],
   "source": [
    "N = int(input(\"N = \"))\n",
    "K = int(input(\"K = \"))\n",
    "count = 0\n",
    "\n",
    "while True:\n",
    "    if N % K == 0:\n",
    "        N = N / K\n",
    "        count += 1\n",
    "\n",
    "    else:\n",
    "        if N < K:\n",
    "            count += (N - 1) # 1에서 멈춰야 하니까\n",
    "            break\n",
    "        else:\n",
    "            count += int(N % K)\n",
    "            N = N // K * K \n",
    "\n",
    "\n",
    "print(f\"시도 횟수: {int(count)}\")"
   ]
  },
  {
   "cell_type": "code",
   "execution_count": 13,
   "id": "a7236255",
   "metadata": {},
   "outputs": [
    {
     "name": "stdout",
     "output_type": "stream",
     "text": [
      "N = 25\n",
      "K = 3\n",
      "시도 횟수: 6\n"
     ]
    }
   ],
   "source": [
    "N = int(input(\"N = \"))\n",
    "K = int(input(\"K = \"))\n",
    "count = 0\n",
    "\n",
    "while True:\n",
    "    if N % K == 0:\n",
    "        N = N / K\n",
    "        count += 1\n",
    "\n",
    "    else:\n",
    "        N -= 1\n",
    "        count += 1\n",
    "\n",
    "    if N == 1:\n",
    "        break\n",
    "\n",
    "print(f\"시도 횟수: {count}\")"
   ]
  }
 ],
 "metadata": {
  "kernelspec": {
   "display_name": "Python 3 (ipykernel)",
   "language": "python",
   "name": "python3"
  },
  "language_info": {
   "codemirror_mode": {
    "name": "ipython",
    "version": 3
   },
   "file_extension": ".py",
   "mimetype": "text/x-python",
   "name": "python",
   "nbconvert_exporter": "python",
   "pygments_lexer": "ipython3",
   "version": "3.11.1"
  },
  "vscode": {
   "interpreter": {
    "hash": "8b5c1f561d2d0e0742d9017a700b1827e4f6643b5e48318fcc1a8a6763d8e21c"
   }
  }
 },
 "nbformat": 4,
 "nbformat_minor": 5
}
