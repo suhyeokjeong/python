{
 "cells": [
  {
   "cell_type": "markdown",
   "id": "a1d3dd93",
   "metadata": {},
   "source": [
    "# 2023_02_10\n",
    "<h1>인디언식 이름 짓기<h1>"
   ]
  },
  {
   "cell_type": "markdown",
   "id": "82097300",
   "metadata": {},
   "source": [
    "변수 dict : year, month, day"
   ]
  },
  {
   "cell_type": "code",
   "execution_count": 84,
   "id": "1535cf0e",
   "metadata": {},
   "outputs": [],
   "source": [
    "year = {\n",
    "   0: '시끄러운 또는 말 많은',\n",
    "   1: '푸른',\n",
    "   2: '어두운 -> 적색',\n",
    "   3: '조용한',\n",
    "   4: '웅크린',\n",
    "   5: '백색',\n",
    "   6: '지혜로운',\n",
    "   7: '용감한',\n",
    "   8: '날카로운',\n",
    "   9: '욕심많은'\n",
    "}"
   ]
  },
  {
   "cell_type": "code",
   "execution_count": 85,
   "id": "2fe90d7f",
   "metadata": {},
   "outputs": [],
   "source": [
    "month = {\n",
    "   1: '늑대', 2: '태양', 3: '양', 4: '매',\n",
    "   5: '황소', 6: '불꽃', 7: '나무', 8: '달빛',\n",
    "   9: '말', 10: '돼지', 11: '하늘', 12: '바람'\n",
    "}"
   ]
  },
  {
   "cell_type": "code",
   "execution_count": 86,
   "id": "1741dccc",
   "metadata": {},
   "outputs": [],
   "source": [
    "day = {\n",
    "   1: '와(과) 함께 춤을', 2: '의 기상', 3: '은(는) 그림자속에',\n",
    "   4: '', 5: '', 6: '',\n",
    "   7: '의 환생', 8: '의 죽음', 9: '의 아래에서',\n",
    "   10: '을(를) 보라', 11: '이(가) 노래하다', 12: '의 그늘 -> 그림자',\n",
    "   13: '의 일격', 14: '에게 쫓기는 남자', 15: '의 행진',\n",
    "   16: '의 왕', 17: '의 유령', 18: '을 죽인자',\n",
    "   19: '은(는) 맨날 잠 잔다', 20: '처럼', 21: '의 고향',\n",
    "   22: '의 전사', 23: '은(는) 나의 친구', 24: '의 노래',\n",
    "   25: '의 정령', 26: '의 파수꾼', 27: '의 악마',\n",
    "   28: '와(과) 같은 사나이', 29: '의 심판자 -> 을(를) 쓰러트린 자', 30: '의 혼',\n",
    "   31: '은(는) 말이 없다',\n",
    "}"
   ]
  },
  {
   "cell_type": "markdown",
   "id": "3ea6bd15",
   "metadata": {},
   "source": [
    "1. for문을 통해 k값 비교하여 v return"
   ]
  },
  {
   "cell_type": "code",
   "execution_count": 87,
   "id": "99302901",
   "metadata": {},
   "outputs": [],
   "source": [
    "def indian_naming_function(data, dictionary_type):\n",
    "    invert_data_to_int = int(data)\n",
    "\n",
    "    for k, v  in dictionary_type.items():\n",
    "        if k == invert_data_to_int:\n",
    "            return v"
   ]
  },
  {
   "cell_type": "code",
   "execution_count": 88,
   "id": "c78a1400",
   "metadata": {},
   "outputs": [
    {
     "name": "stdout",
     "output_type": "stream",
     "text": [
      "생년월일을 입력하세요, ####-##-## >> 1997-03-04\n"
     ]
    }
   ],
   "source": [
    "birthday = input(\"생년월일을 입력하세요, ####-##-## >> \")\n",
    "y, m, d = birthday.split('-')\n",
    "# print(y)\n",
    "# print(b)\n",
    "# print(d)"
   ]
  },
  {
   "cell_type": "code",
   "execution_count": 89,
   "id": "1463c79e",
   "metadata": {},
   "outputs": [],
   "source": [
    "indianic_year_name = indian_naming_function(y[3], year)\n",
    "indianic_month_name = indian_naming_function(m, month)\n",
    "indianic_day_name = indian_naming_function(d, day)"
   ]
  },
  {
   "cell_type": "code",
   "execution_count": 90,
   "id": "f12a65b0",
   "metadata": {},
   "outputs": [
    {
     "name": "stdout",
     "output_type": "stream",
     "text": [
      "생일: 1997-03-04\n",
      "인디안식 이름: 용감한 양\n"
     ]
    }
   ],
   "source": [
    "print(\"생일: %s\" % birthday)\n",
    "print(\"인디안식 이름: %s %s%s\" % (indianic_year_name, indianic_month_name, indianic_day_name))    "
   ]
  },
  {
   "cell_type": "markdown",
   "id": "faafffa0",
   "metadata": {},
   "source": [
    "2. dict.get('key')을 통해 value 추출"
   ]
  },
  {
   "cell_type": "code",
   "execution_count": 81,
   "id": "2306c66e",
   "metadata": {},
   "outputs": [
    {
     "name": "stdout",
     "output_type": "stream",
     "text": [
      "생년월일을 입력하세요, ####-##-## >> 1997-03-04\n",
      "인디안식 이름 : 용감한 양\n"
     ]
    }
   ],
   "source": [
    "birthday = input(\"생년월일을 입력하세요, ####-##-## >> \")\n",
    "y, m, d = birthday.split('-')\n",
    "\n",
    "a = year.get(int(y[3]))\n",
    "print(\"인디안식 이름 : %s %s%s\" %\n",
    "      (year.get(int(y[3])),\n",
    "       month.get(int(m)),\n",
    "       day.get(int(d))))"
   ]
  },
  {
   "cell_type": "code",
   "execution_count": 94,
   "id": "98aef3d2",
   "metadata": {
    "scrolled": true
   },
   "outputs": [
    {
     "name": "stdout",
     "output_type": "stream",
     "text": [
      "생일 : 1997-03-04 \n",
      "인디안식 이름 : 용감한 양\n"
     ]
    }
   ],
   "source": [
    "print(\"생일 : %s \\n인디안식 이름 : %s %s%s\" %\n",
    "      (birthday, year.get(int(y[3])),\n",
    "       month.get(int(m)),\n",
    "       day.get(int(d))))"
   ]
  },
  {
   "cell_type": "markdown",
   "id": "11ba24ec",
   "metadata": {},
   "source": [
    "** find() 함수 정리 필요"
   ]
  },
  {
   "cell_type": "code",
   "execution_count": null,
   "id": "bf1368a8",
   "metadata": {},
   "outputs": [],
   "source": [
    "birthday = '1997-03-04'\n",
    "a = birthday.find('-', 2)\n",
    "print(a)"
   ]
  }
 ],
 "metadata": {
  "kernelspec": {
   "display_name": "Python 3 (ipykernel)",
   "language": "python",
   "name": "python3"
  },
  "language_info": {
   "codemirror_mode": {
    "name": "ipython",
    "version": 3
   },
   "file_extension": ".py",
   "mimetype": "text/x-python",
   "name": "python",
   "nbconvert_exporter": "python",
   "pygments_lexer": "ipython3",
   "version": "3.11.1"
  }
 },
 "nbformat": 4,
 "nbformat_minor": 5
}
