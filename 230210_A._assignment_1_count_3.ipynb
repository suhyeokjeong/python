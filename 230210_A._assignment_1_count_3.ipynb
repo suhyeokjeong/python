{
 "cells": [
  {
   "cell_type": "markdown",
   "id": "e63f9680",
   "metadata": {},
   "source": [
    "# 과제 1\n",
    "- 1 ~ 101 사이 3이 든 숫자 개수 확인"
   ]
  },
  {
   "cell_type": "code",
   "execution_count": 3,
   "id": "06e0315d",
   "metadata": {},
   "outputs": [
    {
     "name": "stdout",
     "output_type": "stream",
     "text": [
      "19\n"
     ]
    }
   ],
   "source": [
    "count = 0\n",
    "\n",
    "for number in range(1, 101):\n",
    "    if number % 10 == 3:\n",
    "        count += 1\n",
    "    # elif가 아니라 if로 쓰면 33때문에 count가 중첩\n",
    "    elif number // 10 == 3:\n",
    "        count += 1\n",
    "\n",
    "print(count)"
   ]
  },
  {
   "cell_type": "code",
   "execution_count": 3,
   "id": "321fea74",
   "metadata": {},
   "outputs": [
    {
     "name": "stdout",
     "output_type": "stream",
     "text": [
      "19\n"
     ]
    }
   ],
   "source": [
    "count = 0\n",
    "\n",
    "for number in range(1, 101):\n",
    "    if '3' in str(number):\n",
    "        count += 1\n",
    "\n",
    "print(count)"
   ]
  },
  {
   "cell_type": "markdown",
   "id": "4b6c8d9c",
   "metadata": {},
   "source": [
    "# list와 count를 활용\n",
    "리스트 안에 list에 넣고 그 안에 3을 확인"
   ]
  },
  {
   "cell_type": "code",
   "execution_count": 7,
   "id": "08aab437",
   "metadata": {},
   "outputs": [
    {
     "name": "stdout",
     "output_type": "stream",
     "text": [
      "20\n"
     ]
    }
   ],
   "source": [
    "counts = 0\n",
    "\n",
    "for number in range(1, 101):\n",
    "    counts += list(str(number)).count('3')\n",
    "\n",
    "print(count)"
   ]
  },
  {
   "cell_type": "markdown",
   "id": "8e92fc81",
   "metadata": {},
   "source": [
    "# 과제 2"
   ]
  },
  {
   "cell_type": "code",
   "execution_count": null,
   "id": "a3f34667",
   "metadata": {},
   "outputs": [],
   "source": []
  }
 ],
 "metadata": {
  "kernelspec": {
   "display_name": "Python 3 (ipykernel)",
   "language": "python",
   "name": "python3"
  },
  "language_info": {
   "codemirror_mode": {
    "name": "ipython",
    "version": 3
   },
   "file_extension": ".py",
   "mimetype": "text/x-python",
   "name": "python",
   "nbconvert_exporter": "python",
   "pygments_lexer": "ipython3",
   "version": "3.11.1"
  }
 },
 "nbformat": 4,
 "nbformat_minor": 5
}
