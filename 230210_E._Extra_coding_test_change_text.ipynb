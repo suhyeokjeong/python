{
 "cells": [
  {
   "cell_type": "code",
   "execution_count": 3,
   "id": "1e5a0304",
   "metadata": {},
   "outputs": [
    {
     "name": "stdout",
     "output_type": "stream",
     "text": [
      "97\n",
      "122\n"
     ]
    }
   ],
   "source": [
    "print(ord('a'))\n",
    "print(ord('z'))"
   ]
  },
  {
   "cell_type": "code",
   "execution_count": 13,
   "id": "4a047be0",
   "metadata": {},
   "outputs": [],
   "source": [
    "def solution(s, skip, index):\n",
    "    answer = ''\n",
    "    \n",
    "    for char in s:\n",
    "        if char in skip:\n",
    "            continue\n",
    "        else:\n",
    "            ord_number = ord(char) + index\n",
    "            while ord_number < 122:\n",
    "                ord_number -= (ord('z') + 1) - ord('a')\n",
    "            answer = answer + chr(ord_number)\n",
    "    \n",
    "    return answer"
   ]
  },
  {
   "cell_type": "code",
   "execution_count": 14,
   "id": "6fe21e65",
   "metadata": {},
   "outputs": [
    {
     "ename": "KeyboardInterrupt",
     "evalue": "",
     "output_type": "error",
     "traceback": [
      "\u001b[1;31m---------------------------------------------------------------------------\u001b[0m",
      "\u001b[1;31mKeyboardInterrupt\u001b[0m                         Traceback (most recent call last)",
      "Cell \u001b[1;32mIn[14], line 1\u001b[0m\n\u001b[1;32m----> 1\u001b[0m \u001b[38;5;28mprint\u001b[39m(\u001b[43msolution\u001b[49m\u001b[43m(\u001b[49m\u001b[38;5;124;43m\"\u001b[39;49m\u001b[38;5;124;43maukks\u001b[39;49m\u001b[38;5;124;43m\"\u001b[39;49m\u001b[43m,\u001b[49m\u001b[43m \u001b[49m\u001b[38;5;124;43m'\u001b[39;49m\u001b[38;5;124;43mwbqd\u001b[39;49m\u001b[38;5;124;43m'\u001b[39;49m\u001b[43m,\u001b[49m\u001b[43m \u001b[49m\u001b[38;5;241;43m5\u001b[39;49m\u001b[43m)\u001b[49m)\n",
      "Cell \u001b[1;32mIn[13], line 10\u001b[0m, in \u001b[0;36msolution\u001b[1;34m(s, skip, index)\u001b[0m\n\u001b[0;32m      8\u001b[0m         ord_number \u001b[38;5;241m=\u001b[39m \u001b[38;5;28mord\u001b[39m(char) \u001b[38;5;241m+\u001b[39m index\n\u001b[0;32m      9\u001b[0m         \u001b[38;5;28;01mwhile\u001b[39;00m ord_number \u001b[38;5;241m<\u001b[39m \u001b[38;5;241m122\u001b[39m:\n\u001b[1;32m---> 10\u001b[0m             ord_number \u001b[38;5;241m-\u001b[39m\u001b[38;5;241m=\u001b[39m (\u001b[38;5;28mord\u001b[39m(\u001b[38;5;124m'\u001b[39m\u001b[38;5;124mz\u001b[39m\u001b[38;5;124m'\u001b[39m) \u001b[38;5;241m+\u001b[39m \u001b[38;5;241m1\u001b[39m) \u001b[38;5;241m-\u001b[39m \u001b[38;5;28;43mord\u001b[39;49m\u001b[43m(\u001b[49m\u001b[38;5;124;43m'\u001b[39;49m\u001b[38;5;124;43ma\u001b[39;49m\u001b[38;5;124;43m'\u001b[39;49m\u001b[43m)\u001b[49m\n\u001b[0;32m     11\u001b[0m         answer \u001b[38;5;241m=\u001b[39m answer \u001b[38;5;241m+\u001b[39m \u001b[38;5;28mchr\u001b[39m(ord_number)\n\u001b[0;32m     13\u001b[0m \u001b[38;5;28;01mreturn\u001b[39;00m answer\n",
      "\u001b[1;31mKeyboardInterrupt\u001b[0m: "
     ]
    }
   ],
   "source": [
    "print(solution(\"aukks\", 'wbqd', 5))"
   ]
  },
  {
   "cell_type": "code",
   "execution_count": 10,
   "id": "3f4bf478",
   "metadata": {},
   "outputs": [],
   "source": [
    "def solution(s, skip, index):\n",
    "    answer = ''\n",
    "    for char in s:\n",
    "        ord_number = ord(char)\n",
    "        count = 0\n",
    "\n",
    "        while True:\n",
    "            ord_number += 1\n",
    "\n",
    "            if ord_number > 122:\n",
    "                ord_number -= 26\n",
    "                \n",
    "            if chr(ord_number) in skip:\n",
    "                continue\n",
    "            else:\n",
    "                count += 1\n",
    "\n",
    "            if count == index:\n",
    "                answer += chr(ord_number)\n",
    "                break\n",
    "\n",
    "    return answer"
   ]
  },
  {
   "cell_type": "code",
   "execution_count": 11,
   "id": "f8f0b30b",
   "metadata": {},
   "outputs": [
    {
     "name": "stdout",
     "output_type": "stream",
     "text": [
      "happy\n"
     ]
    }
   ],
   "source": [
    "print(solution(\"aukks\", 'wbqd', 5))"
   ]
  },
  {
   "cell_type": "code",
   "execution_count": 12,
   "id": "13e33c3c",
   "metadata": {},
   "outputs": [
    {
     "name": "stdout",
     "output_type": "stream",
     "text": [
      "5\n"
     ]
    }
   ],
   "source": []
  },
  {
   "cell_type": "code",
   "execution_count": null,
   "id": "c7e82f61",
   "metadata": {},
   "outputs": [],
   "source": []
  }
 ],
 "metadata": {
  "kernelspec": {
   "display_name": "Python 3 (ipykernel)",
   "language": "python",
   "name": "python3"
  },
  "language_info": {
   "codemirror_mode": {
    "name": "ipython",
    "version": 3
   },
   "file_extension": ".py",
   "mimetype": "text/x-python",
   "name": "python",
   "nbconvert_exporter": "python",
   "pygments_lexer": "ipython3",
   "version": "3.11.1"
  }
 },
 "nbformat": 4,
 "nbformat_minor": 5
}
