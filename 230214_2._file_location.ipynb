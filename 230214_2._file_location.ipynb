{
 "cells": [
  {
   "cell_type": "markdown",
   "id": "7c1f81b8",
   "metadata": {},
   "source": [
    "# 경로\n",
    "    - 상대/ 절대 경로"
   ]
  },
  {
   "cell_type": "markdown",
   "id": "b73c8ba4",
   "metadata": {},
   "source": [
    "# 파일다루기\n",
    "    - 1. open()\n",
    "    - 2. 경로( 절대 / 상대)\n",
    "    - 3. 모드 (mode) (읽기 r / 쓰기 w) (바이너리 / 텍스트)\n",
    "    - 4. encoding / charset\n",
    "        - utf8 / utf-8 / ms949/ p949\n",
    "- ex) 파일 다운로드"
   ]
  },
  {
   "cell_type": "code",
   "execution_count": 66,
   "id": "e3a57582",
   "metadata": {},
   "outputs": [],
   "source": [
    "file = open('text.txt', encoding = 'UTF-8')"
   ]
  },
  {
   "cell_type": "code",
   "execution_count": 67,
   "id": "3b332fee",
   "metadata": {
    "scrolled": true
   },
   "outputs": [
    {
     "name": "stdout",
     "output_type": "stream",
     "text": [
      "1번째\n",
      "2번째\n",
      "3번째\n",
      "4번째\n",
      "5번째\n",
      "6번째\n"
     ]
    }
   ],
   "source": [
    "# text = file.read()\n",
    "# print(text)\n",
    "\n",
    "while True:\n",
    "    line = file.readline()\n",
    "    if not line: break\n",
    "    print(line, end = '')"
   ]
  },
  {
   "cell_type": "code",
   "execution_count": 60,
   "id": "5fb703ef",
   "metadata": {},
   "outputs": [],
   "source": [
    "file.close()"
   ]
  },
  {
   "cell_type": "markdown",
   "id": "f57b5977",
   "metadata": {},
   "source": [
    " - with를 사용해 파일을 열고 닫을수도 있다."
   ]
  },
  {
   "cell_type": "markdown",
   "id": "f502fbc9",
   "metadata": {},
   "source": [
    "with open('text.txt', encoding = 'utf8') as file:\n",
    "    text = file.read()"
   ]
  },
  {
   "cell_type": "code",
   "execution_count": 79,
   "id": "11f19ca7",
   "metadata": {},
   "outputs": [],
   "source": [
    "file = open('C:/Users/admin/A. jupyer_proejct/numbers.txt')\n",
    "\n",
    "data = file.read()\n",
    "\n",
    "# data2 = sum(map(int, data.split('\\n')))\n",
    "# data2\n",
    "file.close()"
   ]
  },
  {
   "cell_type": "markdown",
   "id": "e46cfb8d",
   "metadata": {},
   "source": [
    "# 점점 파일을 사용하지 않고 구독을 통해 온라인 서비스를 통해 활용하고 있다."
   ]
  },
  {
   "cell_type": "markdown",
   "id": "e45bb645",
   "metadata": {},
   "source": [
    "바이너리를 쓸 일은 잘없긴하다만;;"
   ]
  },
  {
   "cell_type": "code",
   "execution_count": 131,
   "id": "06bede21",
   "metadata": {},
   "outputs": [
    {
     "name": "stdout",
     "output_type": "stream",
     "text": [
      "['최저기온(℃)', '-8.4', '-9.1', '-8.4', '-9.9', '-12', '-16.5', '-18.6', '-16.6', '-12.8', '-9.6', '-9.3', '-3', '-3.6', '-0.7', '-8.7', '-10.8', '-9.1', '-11.6']\n"
     ]
    }
   ],
   "source": [
    "file = open('seoul_기온.csv')\n",
    "text = file.read()\n",
    "file.close()\n",
    "\n",
    "list_a = text.split('\\n')\n",
    "temp_list = []\n",
    "\n",
    "for line in list_a:\n",
    "    splited = line.split(',')[2]\n",
    "    temp_list.append(splited)\n",
    "\n",
    "print(temp_list)"
   ]
  },
  {
   "cell_type": "code",
   "execution_count": 136,
   "id": "6062485d",
   "metadata": {},
   "outputs": [
    {
     "name": "stdout",
     "output_type": "stream",
     "text": [
      "Requirement already satisfied: matplotlib in c:\\users\\admin\\appdata\\local\\programs\\python\\python311\\lib\\site-packages (3.6.3)\n",
      "Requirement already satisfied: contourpy>=1.0.1 in c:\\users\\admin\\appdata\\local\\programs\\python\\python311\\lib\\site-packages (from matplotlib) (1.0.7)\n",
      "Requirement already satisfied: cycler>=0.10 in c:\\users\\admin\\appdata\\local\\programs\\python\\python311\\lib\\site-packages (from matplotlib) (0.11.0)\n",
      "Requirement already satisfied: fonttools>=4.22.0 in c:\\users\\admin\\appdata\\local\\programs\\python\\python311\\lib\\site-packages (from matplotlib) (4.38.0)\n",
      "Requirement already satisfied: kiwisolver>=1.0.1 in c:\\users\\admin\\appdata\\local\\programs\\python\\python311\\lib\\site-packages (from matplotlib) (1.4.4)\n",
      "Requirement already satisfied: numpy>=1.19 in c:\\users\\admin\\appdata\\local\\programs\\python\\python311\\lib\\site-packages (from matplotlib) (1.24.2)\n",
      "Requirement already satisfied: packaging>=20.0 in c:\\users\\admin\\appdata\\local\\programs\\python\\python311\\lib\\site-packages (from matplotlib) (23.0)\n",
      "Requirement already satisfied: pillow>=6.2.0 in c:\\users\\admin\\appdata\\local\\programs\\python\\python311\\lib\\site-packages (from matplotlib) (9.4.0)\n",
      "Requirement already satisfied: pyparsing>=2.2.1 in c:\\users\\admin\\appdata\\local\\programs\\python\\python311\\lib\\site-packages (from matplotlib) (3.0.9)\n",
      "Requirement already satisfied: python-dateutil>=2.7 in c:\\users\\admin\\appdata\\local\\programs\\python\\python311\\lib\\site-packages (from matplotlib) (2.8.2)\n",
      "Requirement already satisfied: six>=1.5 in c:\\users\\admin\\appdata\\local\\programs\\python\\python311\\lib\\site-packages (from python-dateutil>=2.7->matplotlib) (1.16.0)\n"
     ]
    },
    {
     "name": "stderr",
     "output_type": "stream",
     "text": [
      "\n",
      "[notice] A new release of pip available: 22.3.1 -> 23.0\n",
      "[notice] To update, run: python.exe -m pip install --upgrade pip\n"
     ]
    }
   ],
   "source": [
    "!pip install matplotlib"
   ]
  },
  {
   "cell_type": "code",
   "execution_count": 143,
   "id": "41086ae3",
   "metadata": {},
   "outputs": [
    {
     "data": {
      "text/plain": [
       "[<matplotlib.lines.Line2D at 0x26141710450>]"
      ]
     },
     "execution_count": 143,
     "metadata": {},
     "output_type": "execute_result"
    },
    {
     "name": "stderr",
     "output_type": "stream",
     "text": [
      "C:\\Users\\admin\\AppData\\Local\\Programs\\Python\\Python311\\Lib\\site-packages\\IPython\\core\\events.py:89: UserWarning: Glyph 52572 (\\N{HANGUL SYLLABLE COE}) missing from current font.\n",
      "  func(*args, **kwargs)\n",
      "C:\\Users\\admin\\AppData\\Local\\Programs\\Python\\Python311\\Lib\\site-packages\\IPython\\core\\events.py:89: UserWarning: Glyph 51200 (\\N{HANGUL SYLLABLE JEO}) missing from current font.\n",
      "  func(*args, **kwargs)\n",
      "C:\\Users\\admin\\AppData\\Local\\Programs\\Python\\Python311\\Lib\\site-packages\\IPython\\core\\events.py:89: UserWarning: Glyph 44592 (\\N{HANGUL SYLLABLE GI}) missing from current font.\n",
      "  func(*args, **kwargs)\n",
      "C:\\Users\\admin\\AppData\\Local\\Programs\\Python\\Python311\\Lib\\site-packages\\IPython\\core\\events.py:89: UserWarning: Glyph 50728 (\\N{HANGUL SYLLABLE ON}) missing from current font.\n",
      "  func(*args, **kwargs)\n",
      "C:\\Users\\admin\\AppData\\Local\\Programs\\Python\\Python311\\Lib\\site-packages\\IPython\\core\\pylabtools.py:152: UserWarning: Glyph 52572 (\\N{HANGUL SYLLABLE COE}) missing from current font.\n",
      "  fig.canvas.print_figure(bytes_io, **kw)\n",
      "C:\\Users\\admin\\AppData\\Local\\Programs\\Python\\Python311\\Lib\\site-packages\\IPython\\core\\pylabtools.py:152: UserWarning: Glyph 51200 (\\N{HANGUL SYLLABLE JEO}) missing from current font.\n",
      "  fig.canvas.print_figure(bytes_io, **kw)\n",
      "C:\\Users\\admin\\AppData\\Local\\Programs\\Python\\Python311\\Lib\\site-packages\\IPython\\core\\pylabtools.py:152: UserWarning: Glyph 44592 (\\N{HANGUL SYLLABLE GI}) missing from current font.\n",
      "  fig.canvas.print_figure(bytes_io, **kw)\n",
      "C:\\Users\\admin\\AppData\\Local\\Programs\\Python\\Python311\\Lib\\site-packages\\IPython\\core\\pylabtools.py:152: UserWarning: Glyph 50728 (\\N{HANGUL SYLLABLE ON}) missing from current font.\n",
      "  fig.canvas.print_figure(bytes_io, **kw)\n"
     ]
    },
    {
     "data": {
      "image/png": "[encoded data removed]",
      "text/plain": [
       "<Figure size 640x480 with 1 Axes>"
      ]
     },
     "metadata": {},
     "output_type": "display_data"
    }
   ],
   "source": [
    "import matplotlib.pyplot as plt\n",
    "\n",
    "plt.plot(temp_list)"
   ]
  },
  {
   "cell_type": "code",
   "execution_count": 149,
   "id": "c379711e",
   "metadata": {},
   "outputs": [],
   "source": [
    "import requests\n",
    "url = 'https://image-comic.pstatic.net/webtoon/703846/250/20230123222454_b7b28c9d45d9038440c54e7e6d2326a6_IMAG01_1.jpg'\n",
    "header = {'user-agent' : 'Mozilla/5,0 (Windows NT 10.0 : Win64)'}\n",
    "res = requests.get(url, headers = header)"
   ]
  },
  {
   "cell_type": "code",
   "execution_count": 150,
   "id": "3cd72118",
   "metadata": {},
   "outputs": [],
   "source": [
    "file = open('image.jpg', 'wb')\n",
    "\n",
    "file.write( res.content)\n",
    "\n",
    "file.close()"
   ]
  }
 ],
 "metadata": {
  "kernelspec": {
   "display_name": "Python 3 (ipykernel)",
   "language": "python",
   "name": "python3"
  },
  "language_info": {
   "codemirror_mode": {
    "name": "ipython",
    "version": 3
   },
   "file_extension": ".py",
   "mimetype": "text/x-python",
   "name": "python",
   "nbconvert_exporter": "python",
   "pygments_lexer": "ipython3",
   "version": "3.11.1"
  }
 },
 "nbformat": 4,
 "nbformat_minor": 5
}
