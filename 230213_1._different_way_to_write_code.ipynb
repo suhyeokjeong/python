{
 "cells": [
  {
   "cell_type": "markdown",
   "id": "4e008324",
   "metadata": {},
   "source": [
    "# 조건부 표현식"
   ]
  },
  {
   "cell_type": "code",
   "execution_count": 3,
   "id": "4eff7cd0",
   "metadata": {},
   "outputs": [
    {
     "name": "stdout",
     "output_type": "stream",
     "text": [
      "FAIL\n"
     ]
    }
   ],
   "source": [
    "score = 40\n",
    "print('PASS') if score >= 60 else print('FAIL')"
   ]
  },
  {
   "cell_type": "markdown",
   "id": "a4a42579",
   "metadata": {},
   "source": [
    "while\n",
    "- 무한 반복\n",
    "- 개수/횟수 모를 때\n",
    "\n",
    "for\n",
    "- list, dictionary와 같은 복수개의 자료를 활용할때\n",
    "- 개수/횟수 알고 있을 때"
   ]
  },
  {
   "cell_type": "code",
   "execution_count": 7,
   "id": "3d0b62dd",
   "metadata": {},
   "outputs": [
    {
     "name": "stdout",
     "output_type": "stream",
     "text": [
      "추출된 숫자 : 9\n",
      "추출된 숫자 : 7\n",
      "추출된 숫자 : 7\n",
      "추출된 숫자 : 8\n",
      "추출된 숫자 : 4\n",
      "추출된 숫자 : 7\n",
      "추출된 숫자 : 2\n",
      "추출된 숫자 : 8\n",
      "추출된 숫자 : 9\n",
      "추출된 숫자 : 8\n",
      "추출된 숫자 : 9\n",
      "추출된 숫자 : 4\n",
      "추출된 숫자 : 5\n",
      "추출된 숫자 : 2\n",
      "추출된 숫자 : 5\n",
      "추출된 숫자 : 4\n",
      "추출된 숫자 : 6\n",
      "추출된 숫자 : 9\n",
      "추출된 숫자 : 3\n",
      "추출된 숫자 : 9\n",
      "추출된 숫자 : 7\n",
      "추출된 숫자 : 10\n"
     ]
    }
   ],
   "source": [
    "import random\n",
    "\n",
    "while True:\n",
    "    number = random.randint(1,10)\n",
    "    print('추출된 숫자 : %d' % number)\n",
    "    if number == 10:\n",
    "        break\n"
   ]
  },
  {
   "cell_type": "code",
   "execution_count": 680,
   "id": "46030e96",
   "metadata": {},
   "outputs": [
    {
     "name": "stdout",
     "output_type": "stream",
     "text": [
      "5\n",
      "3\n",
      "4\n",
      "3\n",
      "5\n"
     ]
    }
   ],
   "source": [
    "import random\n",
    "\n",
    "\n",
    "# for i in range(10):\n",
    "#     print(random.random()* 6)\n",
    "\n",
    "\n",
    "# for i in range(30):\n",
    "#     print(int(round((random.random()* 6))))\n",
    "\n",
    "for i in range(5):\n",
    "    print(int(random.random()* 6 + 1))"
   ]
  },
  {
   "cell_type": "code",
   "execution_count": 679,
   "id": "0b8f954b",
   "metadata": {},
   "outputs": [
    {
     "data": {
      "text/plain": [
       "1676253090.2914994"
      ]
     },
     "execution_count": 679,
     "metadata": {},
     "output_type": "execute_result"
    }
   ],
   "source": [
    "import time\n",
    "time.time()\n",
    "\n",
    "# -9승\n",
    "# Unix Time"
   ]
  },
  {
   "cell_type": "code",
   "execution_count": null,
   "id": "b50dea28",
   "metadata": {},
   "outputs": [],
   "source": []
  },
  {
   "cell_type": "code",
   "execution_count": 964,
   "id": "e597cb78",
   "metadata": {},
   "outputs": [
    {
     "name": "stdout",
     "output_type": "stream",
     "text": [
      "[3, 5, 6, 2]\n"
     ]
    }
   ],
   "source": [
    "import random\n",
    "lotto = []\n",
    "count = 0\n",
    "count_2 = 4\n",
    "\n",
    "while True:\n",
    "    num = random.randint(1,6)\n",
    "    \n",
    "    if num in lotto: continue\n",
    "    else:\n",
    "        lotto.append(num)\n",
    "        count += 1\n",
    "    \n",
    "    if count == count_2: \n",
    "        break\n",
    "\n",
    "print(lotto)"
   ]
  },
  {
   "cell_type": "code",
   "execution_count": 875,
   "id": "0d172c1c",
   "metadata": {},
   "outputs": [
    {
     "name": "stdout",
     "output_type": "stream",
     "text": [
      "[4, 5, 1, 6, 3, 2]\n"
     ]
    }
   ],
   "source": [
    "import random\n",
    "lotto = []\n",
    "count = 6\n",
    "\n",
    "while True:\n",
    "    num = random.randint(1,6)\n",
    "    \n",
    "    if num not in lotto:\n",
    "        lotto.append(num)\n",
    "    \n",
    "    if len(lotto) == 6: \n",
    "        break\n",
    "\n",
    "print(lotto)"
   ]
  },
  {
   "cell_type": "code",
   "execution_count": 965,
   "id": "c014ac8b",
   "metadata": {},
   "outputs": [
    {
     "name": "stdout",
     "output_type": "stream",
     "text": [
      "1\n",
      "6\n",
      "5\n",
      "6\n",
      "1\n",
      "6\n",
      "5\n",
      "4\n",
      "4\n",
      "4\n",
      "5\n",
      "4\n",
      "4\n",
      "5\n",
      "6\n",
      "4\n",
      "5\n",
      "2\n",
      "5\n",
      "1\n",
      "2\n",
      "5\n",
      "3\n",
      "{1, 2, 3, 4, 5, 6}\n"
     ]
    }
   ],
   "source": [
    "import random\n",
    "lotto = set()\n",
    "count = 6\n",
    "\n",
    "while True:\n",
    "    num = random.randint(1,6)\n",
    "    print(num)\n",
    "    lotto.add(num)\n",
    "    if len(lotto) == count: break\n",
    "\n",
    "print(lotto)"
   ]
  },
  {
   "cell_type": "code",
   "execution_count": 1073,
   "id": "ec44c78e",
   "metadata": {},
   "outputs": [
    {
     "name": "stdout",
     "output_type": "stream",
     "text": [
      "[1, 10, 18, 24, 26, 30]\n",
      "None\n",
      "[1, 10, 18, 24, 26, 30]\n"
     ]
    }
   ],
   "source": [
    "import random\n",
    "lotto = set()\n",
    "count = 6\n",
    "\n",
    "while True:\n",
    "    num = random.randint(1,31) # 32부터\n",
    "    lotto.add(num)\n",
    "    if len(lotto) == count: break\n",
    "\n",
    "print(list(lotto))\n",
    "print(list(lotto).sort())\n",
    "\n",
    "lotto = list(lotto)\n",
    "lotto.sort()\n",
    "print(lotto)"
   ]
  },
  {
   "cell_type": "markdown",
   "id": "76c325f5",
   "metadata": {},
   "source": [
    "# 퍼사드 패턴"
   ]
  }
 ],
 "metadata": {
  "kernelspec": {
   "display_name": "Python 3 (ipykernel)",
   "language": "python",
   "name": "python3"
  },
  "language_info": {
   "codemirror_mode": {
    "name": "ipython",
    "version": 3
   },
   "file_extension": ".py",
   "mimetype": "text/x-python",
   "name": "python",
   "nbconvert_exporter": "python",
   "pygments_lexer": "ipython3",
   "version": "3.11.1"
  }
 },
 "nbformat": 4,
 "nbformat_minor": 5
}
