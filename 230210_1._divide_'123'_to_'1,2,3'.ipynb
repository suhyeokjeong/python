{
 "cells": [
  {
   "cell_type": "markdown",
   "id": "a6c3e548",
   "metadata": {},
   "source": [
    "# 숫자 123을 1, 2, 3으로 나누기"
   ]
  },
  {
   "cell_type": "code",
   "execution_count": 3,
   "id": "6c943ae3",
   "metadata": {},
   "outputs": [
    {
     "name": "stdout",
     "output_type": "stream",
     "text": [
      "숫자를 입력해주세요 : 123\n",
      "[3, 2, 1]\n",
      "[1, 2, 3]\n"
     ]
    }
   ],
   "source": [
    "number = int(input(\"숫자를 입력해주세요 : \"))\n",
    "\n",
    "number_list = []\n",
    "count = 0\n",
    "\n",
    "while True:\n",
    "    if number // (10 ** count) == 0:\n",
    "        break\n",
    "\n",
    "    number_list.append(number // (10 ** count) % 10)\n",
    "\n",
    "    count += 1\n",
    "    \n",
    "print(number_list)\n",
    "\n",
    "number_list_2 = []\n",
    "\n",
    "for i in range(len(number_list)):\n",
    "    number_list_2.append(number_list[len(number_list) - i - 1])\n",
    "    \n",
    "print(number_list_2)"
   ]
  },
  {
   "cell_type": "code",
   "execution_count": null,
   "id": "d7977360",
   "metadata": {},
   "outputs": [],
   "source": []
  },
  {
   "cell_type": "code",
   "execution_count": null,
   "id": "491ddf0c",
   "metadata": {},
   "outputs": [],
   "source": []
  },
  {
   "cell_type": "markdown",
   "id": "7662090b",
   "metadata": {},
   "source": [
    "# 시간 복잡도\n",
    "- 누가 더 연산을 적게했는가"
   ]
  },
  {
   "cell_type": "code",
   "execution_count": 51,
   "id": "782662d8",
   "metadata": {
    "scrolled": true
   },
   "outputs": [
    {
     "name": "stdout",
     "output_type": "stream",
     "text": [
      "['1', '2', '3']\n",
      "<map object at 0x0000025B8819D630>\n",
      "[1, 2, 3]\n",
      "6\n"
     ]
    }
   ],
   "source": [
    "num = 123\n",
    "temp = str(num)\n",
    "temp2 = list(temp)\n",
    "temp3 = map(int, temp2)\n",
    "temp4 = list(temp3)\n",
    "sum_digit = sum(temp4)\n",
    "\n",
    "print(temp2)\n",
    "print(temp3)\n",
    "print(temp4)\n",
    "print(sum_digit)"
   ]
  },
  {
   "cell_type": "markdown",
   "id": "b8b6fc83",
   "metadata": {},
   "source": [
    "['1', '2', '3']\n",
    "\n",
    "<map object at 0x0000025B8819CC10>\n",
    "\n",
    "[1, 2, 3]\n",
    "\n",
    "6"
   ]
  },
  {
   "cell_type": "markdown",
   "id": "d142f60d",
   "metadata": {},
   "source": [
    "# page를 1~10으로 나누기"
   ]
  },
  {
   "cell_type": "code",
   "execution_count": 59,
   "id": "eec74490",
   "metadata": {},
   "outputs": [
    {
     "name": "stdout",
     "output_type": "stream",
     "text": [
      "1 10\n"
     ]
    }
   ],
   "source": [
    "page = 7\n",
    "start = page // 10 * 10 + 1\n",
    "end = start + 9\n",
    "\n",
    "print(start, end)"
   ]
  },
  {
   "cell_type": "code",
   "execution_count": 64,
   "id": "3cd3a3aa",
   "metadata": {},
   "outputs": [
    {
     "name": "stdout",
     "output_type": "stream",
     "text": [
      "1 10\n"
     ]
    }
   ],
   "source": [
    "page = 10\n",
    "if page % 10 == 0:\n",
    "    page = page - 1\n",
    "\n",
    "start = page // 10 * 10 + 1\n",
    "end = start + 9\n",
    "\n",
    "print(start, end)"
   ]
  },
  {
   "cell_type": "code",
   "execution_count": 80,
   "id": "bf9e8665",
   "metadata": {},
   "outputs": [
    {
     "name": "stdout",
     "output_type": "stream",
     "text": [
      "1 10\n"
     ]
    }
   ],
   "source": [
    "page = 10\n",
    "if page % 10 == 0:\n",
    "    start = (page -1) // 10 * 10 + 1\n",
    "    end = start + 9\n",
    "    \n",
    "else:\n",
    "    start = page // 10 * 10 + 1\n",
    "    end = start + 9\n",
    "\n",
    "print(start, end)"
   ]
  },
  {
   "cell_type": "code",
   "execution_count": 85,
   "id": "7168f60f",
   "metadata": {},
   "outputs": [
    {
     "name": "stdout",
     "output_type": "stream",
     "text": [
      "1 10\n"
     ]
    }
   ],
   "source": [
    "page = 1\n",
    "\n",
    "start = (page -1) // 10 * 10 + 1\n",
    "end = start + 9\n",
    "\n",
    "print(start, end)"
   ]
  }
 ],
 "metadata": {
  "kernelspec": {
   "display_name": "Python 3 (ipykernel)",
   "language": "python",
   "name": "python3"
  },
  "language_info": {
   "codemirror_mode": {
    "name": "ipython",
    "version": 3
   },
   "file_extension": ".py",
   "mimetype": "text/x-python",
   "name": "python",
   "nbconvert_exporter": "python",
   "pygments_lexer": "ipython3",
   "version": "3.11.1"
  }
 },
 "nbformat": 4,
 "nbformat_minor": 5
}
