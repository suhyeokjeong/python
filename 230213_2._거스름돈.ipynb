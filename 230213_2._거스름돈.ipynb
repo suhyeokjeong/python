{
 "cells": [
  {
   "cell_type": "markdown",
   "id": "fe966518-9116-4221-a509-fe8ad94978c0",
   "metadata": {},
   "source": [
    "## 거스름 돈\n",
    "- 당신은 음식점의 계산을 도와주는 점원입니다. 카운터에는 거스름 돈으로 사용할 500원, 100원, 50원, 10원 짜리 동전이 무한히 존재한다고 가정합니다. 손님에게 거슬러 주어야 할 돈이 N원일 때 거슬러 주어야 할 동전의 최소 개수를 구하세요. 단, 거슬러 줘야 할 돈 N은 항상 10의 배수입니다."
   ]
  },
  {
   "cell_type": "markdown",
   "id": "a8edfc2f-427d-4b36-8344-e35dc482a335",
   "metadata": {},
   "source": [
    "![nn](images/그리디01.png)"
   ]
  },
  {
   "cell_type": "markdown",
   "id": "52b1ccbf-484f-4a10-8a97-8f1e3ab22582",
   "metadata": {},
   "source": [
    "![nn](images/그리디02.png)"
   ]
  },
  {
   "cell_type": "code",
   "execution_count": 9,
   "id": "da3c9bb9-2cd6-435b-848c-5d2de6ee997c",
   "metadata": {},
   "outputs": [
    {
     "name": "stdout",
     "output_type": "stream",
     "text": [
      "거슬러줘야할 돈은? >> 1300\n",
      "동전 개수 : 5\n"
     ]
    }
   ],
   "source": [
    "return_cost = int(input(\"거슬러줘야할 돈은? >> \"))\n",
    "coin_num = 0\n",
    "\n",
    "while True:\n",
    "    coin_num += return_cost // 500\n",
    "    rest_cost = return_cost % 500\n",
    "\n",
    "    coin_num += rest_cost // 100\n",
    "    rest_cost = rest_cost % 100\n",
    "    \n",
    "    coin_num += rest_cost // 50\n",
    "    rest_cost = rest_cost % 50\n",
    "    \n",
    "    coin_num += rest_cost // 10\n",
    "    rest_cost = rest_cost % 10\n",
    "    \n",
    "    if rest_cost == 0: break\n",
    "        \n",
    "print(f\"동전 개수 : {coin_num}\")\n",
    "\n",
    "# if-elif-else문을 활용해야 구간이 준다. 만약 금액 구간이 훨씬 다양해진다면 매 구간 진행이 되어야하니 그렇다."
   ]
  },
  {
   "cell_type": "code",
   "execution_count": 15,
   "id": "a6a7ce09",
   "metadata": {},
   "outputs": [
    {
     "name": "stdout",
     "output_type": "stream",
     "text": [
      "거슬러줘야할 돈은? >> 1300\n",
      "동전 개수 : 5\n"
     ]
    }
   ],
   "source": [
    "cost = int(input(\"거슬러줘야할 돈은? >> \"))\n",
    "coin_num = 0\n",
    "coin_type = [500, 100, 50, 10]\n",
    "\n",
    "for type in coin_type:\n",
    "    coin_num += cost // type\n",
    "    cost = cost % type\n",
    "    \n",
    "    if cost == 0: break\n",
    "        \n",
    "print(f\"동전 개수 : {coin_num}\")"
   ]
  }
 ],
 "metadata": {
  "kernelspec": {
   "display_name": "Python 3 (ipykernel)",
   "language": "python",
   "name": "python3"
  },
  "language_info": {
   "codemirror_mode": {
    "name": "ipython",
    "version": 3
   },
   "file_extension": ".py",
   "mimetype": "text/x-python",
   "name": "python",
   "nbconvert_exporter": "python",
   "pygments_lexer": "ipython3",
   "version": "3.11.1"
  },
  "vscode": {
   "interpreter": {
    "hash": "8b5c1f561d2d0e0742d9017a700b1827e4f6643b5e48318fcc1a8a6763d8e21c"
   }
  }
 },
 "nbformat": 4,
 "nbformat_minor": 5
}
