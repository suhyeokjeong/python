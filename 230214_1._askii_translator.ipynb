{
 "cells": [
  {
   "cell_type": "code",
   "execution_count": 2,
   "id": "4c6a95b1",
   "metadata": {},
   "outputs": [
    {
     "name": "stdout",
     "output_type": "stream",
     "text": [
      "g fmnc wms bgblr rpylqjyrc gr zw fylb. rfyrq ufyr amknsrcpq ypc dmp. bmgle gr gl zw fylb gq glcddgagclr ylb rfyr'q ufw rfgq rcvr gq qm jmle. sqgle qrpgle.kyicrpylq() gq pcamkkclbcb. lmu ynnjw ml rfc spj.\n"
     ]
    }
   ],
   "source": [
    "import requests as req\n",
    "res = req.get('http://ggoreb.com/quiz/encrypt_string.txt')\n",
    "text = res.text\n",
    "print(text)"
   ]
  },
  {
   "cell_type": "code",
   "execution_count": 5,
   "id": "18626505",
   "metadata": {},
   "outputs": [
    {
     "name": "stdout",
     "output_type": "stream",
     "text": [
      "i hope you didnt translate it by hand. thats what computers are for. doing it in by hand is inefficient and that's why this text is so long. using string.maketrans() is recommended. now apply on the url.\n"
     ]
    }
   ],
   "source": [
    "buffer = \"\"\n",
    "\n",
    "for char in text:\n",
    "    if char.isalpha():\n",
    "        if ord(char) + 2 > ord('z'):\n",
    "            char = chr(ord(char) +  2 - (ord('z') + 1) + ord('a'))\n",
    "        else:\n",
    "            char = chr(ord(char) +  2)\n",
    "        buffer += char\n",
    "        \n",
    "    else:\n",
    "        buffer += char\n",
    "\n",
    "print(buffer)"
   ]
  },
  {
   "cell_type": "code",
   "execution_count": 7,
   "id": "fd11e137",
   "metadata": {},
   "outputs": [
    {
     "ename": "SyntaxError",
     "evalue": "invalid syntax (727810220.py, line 5)",
     "output_type": "error",
     "traceback": [
      "\u001b[1;36m  Cell \u001b[1;32mIn[7], line 5\u001b[1;36m\u001b[0m\n\u001b[1;33m    buffer +=\u001b[0m\n\u001b[1;37m              ^\u001b[0m\n\u001b[1;31mSyntaxError\u001b[0m\u001b[1;31m:\u001b[0m invalid syntax\n"
     ]
    }
   ],
   "source": [
    "obj = ''.maketrans('a', 'b')\n",
    "'abcd'.translate(obj)"
   ]
  },
  {
   "cell_type": "markdown",
   "id": "a6c0b728",
   "metadata": {},
   "source": [
    "# 문자열 변환\n",
    "    - maketrans(before, after), text.translate(obj)\n",
    "    - join()\n",
    "    - before = [chr(i) for  i in range(ord('a'), ord('z') + 1)]\n"
   ]
  },
  {
   "cell_type": "code",
   "execution_count": 26,
   "id": "6fdf07bb",
   "metadata": {},
   "outputs": [
    {
     "data": {
      "text/plain": [
       "\"i hope you didnt translate it by hand. thats what computers are for. doing it in by hand is inefficient and that's why this text is so long. using string.maketrans() is recommended. now apply on the url.\""
      ]
     },
     "execution_count": 26,
     "metadata": {},
     "output_type": "execute_result"
    }
   ],
   "source": [
    "before = [chr(i) for  i in range(ord('a'), ord('z') + 1)]\n",
    "before = ''.join(before)\n",
    "\n",
    "after = before[2:] + before[:2]\n",
    "# after = [chr(i) for i in range(ord('c'), ord('z') + 1)]\n",
    "# after = ''.join(after)\n",
    "# after = after + 'ab'\n",
    "\n",
    "obj = ''.maketrans(before, after)\n",
    "text.translate(obj)"
   ]
  }
 ],
 "metadata": {
  "kernelspec": {
   "display_name": "Python 3 (ipykernel)",
   "language": "python",
   "name": "python3"
  },
  "language_info": {
   "codemirror_mode": {
    "name": "ipython",
    "version": 3
   },
   "file_extension": ".py",
   "mimetype": "text/x-python",
   "name": "python",
   "nbconvert_exporter": "python",
   "pygments_lexer": "ipython3",
   "version": "3.11.1"
  }
 },
 "nbformat": 4,
 "nbformat_minor": 5
}
